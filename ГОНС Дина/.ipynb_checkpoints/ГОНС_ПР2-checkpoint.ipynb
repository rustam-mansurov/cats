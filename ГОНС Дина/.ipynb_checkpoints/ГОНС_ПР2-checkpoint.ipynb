{
  "cells": [
    {
      "cell_type": "markdown",
      "metadata": {
        "id": "HD2LEkGbNujo"
      },
      "source": [
        "##ГЛУБОКОЕ ОБУЧЕНИЕ НЕЙРОННЫХ СЕТЕЙ\n",
        "\n",
        "М21-181-1 \n",
        "\n",
        "Перевощикова Д.А.\n",
        "\n",
        "##ПРАКТИЧЕСКАЯ РАБОТА №2\n",
        "\n",
        "Цель работы – научится реализовывать нейронные сети для распознавания\n",
        "геометрических фигур на изображениях.\n",
        "\n",
        "Задачи:\n",
        "1. Изучить реализацию в TensorFlow нейронных сетей для распознавания\n",
        "геометрических фигур на изображениях на примере.\n",
        "\n",
        "2. Разработать и обучить нейронную сеть глубокого обучения для\n",
        "распознавания геометрических фигур на изображениях.\n",
        "\n",
        "3. Сформировать дополнительный тестовый набор данных, содержащий\n",
        "геометрические фигуры. Увеличить сформированные наборы данных с\n",
        "использованием встроенных средств TensorFlow.\n",
        "\n",
        "4. Оценить точность распознавания на дополнительном наборе тестовых\n",
        "данных\n"
      ]
    },
    {
      "cell_type": "markdown",
      "metadata": {
        "id": "wvgYL5BhODCy"
      },
      "source": [
        "Импортируем необходимые библиотеки и зависимости:"
      ]
    },
    {
      "cell_type": "code",
      "execution_count": 1,
      "metadata": {
        "id": "11CIXz_l7O1U"
      },
      "outputs": [],
      "source": [
        "import numpy as np\n",
        "import tensorflow as tf\n",
        "from tensorflow import keras\n",
        "import matplotlib.pyplot as plt\n",
        "import cv2"
      ]
    },
    {
      "cell_type": "markdown",
      "metadata": {
        "id": "HIBrFnNFOI3C"
      },
      "source": [
        "Для проведения обучения нейронной сети будем использовать собственную выборку, составленную с помощью библиотеки сv2. Для этого создадим функцию добавления квадрата add_square"
      ]
    },
    {
      "cell_type": "code",
      "execution_count": 2,
      "metadata": {
        "id": "yELBnZ0q9WZq"
      },
      "outputs": [],
      "source": [
        "def add_square(img, center, width):\n",
        "  start_point = (center[0]-width, center[1]-width)\n",
        "  end_point   = (center[0]+width, center[1]+width)\n",
        "  cv2.rectangle(img, start_point, end_point, random_color(),cv2.FILLED)"
      ]
    },
    {
      "cell_type": "markdown",
      "metadata": {
        "id": "SII6pK5vOZFM"
      },
      "source": [
        "Нейронная сеть будет находить все окружности на рисунке, создадим датасет с помощью функции create_data_sample, случайно заполним пустые картинки с черным фоном квадратами и кругами разного цвета"
      ]
    },
    {
      "cell_type": "code",
      "execution_count": 3,
      "metadata": {
        "id": "VeV5Q1ky7izq"
      },
      "outputs": [],
      "source": [
        "def create_data_sample(num_shapes, height, width):\n",
        "  img = np.zeros((height, width, 3))\n",
        "  label = np.zeros((height, width, 1))\n",
        "  for _ in range(num_shapes):\n",
        "    x = int(np.random.rand()*width)\n",
        "    y = int(np.random.rand()*height)\n",
        "    if np.random.rand() > 0.5:\n",
        "      cv2.circle(img, (x,y), int(np.ceil(width*0.05)), random_color(), cv2.FILLED)\n",
        "      cv2.circle(label, (x,y), int(np.ceil(width*0.02)), (1,1,1), cv2.FILLED)\n",
        "    else: \n",
        "      add_square(img, (x,y), int(np.ceil(width*0.05*0.7)))\n",
        "  return img, label\n"
      ]
    },
    {
      "cell_type": "markdown",
      "metadata": {
        "id": "YhRfI_gUOwJ-"
      },
      "source": [
        "Создадим различные вспомогательные функции."
      ]
    },
    {
      "cell_type": "code",
      "execution_count": 4,
      "metadata": {
        "id": "ahEDuTw_uelA"
      },
      "outputs": [],
      "source": [
        "def test_batch(num_shapes, height, width):\n",
        "  img, label = create_data_sample(num_shapes, height, width)\n",
        "  return np.expand_dims(img,0), np.expand_dims(label,0)"
      ]
    },
    {
      "cell_type": "code",
      "execution_count": 5,
      "metadata": {
        "id": "DcjI2eH1HDql"
      },
      "outputs": [],
      "source": [
        "def grayscale_image(img):\n",
        "  return np.expand_dims((img[:,:,0] + img[:,:,1] + img[:,:,2])/3,2)"
      ]
    },
    {
      "cell_type": "code",
      "execution_count": 6,
      "metadata": {
        "id": "Fe5pV5xu-2XS"
      },
      "outputs": [],
      "source": [
        "# (128,128,1) --> (128,128,3)\n",
        "def to_three_channels(img):\n",
        "  return np.squeeze(np.stack((img,img,img), 2))"
      ]
    },
    {
      "cell_type": "code",
      "execution_count": 7,
      "metadata": {
        "id": "i0a9CpWHS5wc"
      },
      "outputs": [],
      "source": [
        "def random_color():\n",
        "  return np.random.rand(3)"
      ]
    },
    {
      "cell_type": "code",
      "execution_count": 8,
      "metadata": {
        "id": "6e-JcGdI8jn7"
      },
      "outputs": [],
      "source": [
        "def show_sample(img, label):\n",
        "  figure, axis = plt.subplots(1,2)\n",
        "  axis[0].imshow(img)\n",
        "  axis[1].imshow(to_three_channels(label))"
      ]
    },
    {
      "cell_type": "code",
      "execution_count": 9,
      "metadata": {
        "id": "ezsg3vRxEePg"
      },
      "outputs": [],
      "source": [
        "def show_batch(img, label):\n",
        "  show_sample(img[0,:,:,:],label[0,:,:,:])"
      ]
    },
    {
      "cell_type": "markdown",
      "metadata": {
        "id": "8QhpHH3PP4Q-"
      },
      "source": [
        "С помощью функции show_sample выведем на экран пример элемента из выборки. На первом изображении показан первоначальный вид, на втором изображении продемонстрированы только центры окружностей."
      ]
    },
    {
      "cell_type": "code",
      "execution_count": 10,
      "metadata": {
        "colab": {
          "base_uri": "https://localhost:8080/",
          "height": 220
        },
        "id": "4VU7X3wKE06e",
        "outputId": "68001b40-1724-4e16-a1b8-8073ffb4b3b6"
      },
      "outputs": [
        {
          "output_type": "stream",
          "name": "stdout",
          "text": [
            "(1, 128, 128, 3) (1, 128, 128, 1)\n"
          ]
        },
        {
          "output_type": "display_data",
          "data": {
            "text/plain": [
              "<Figure size 432x288 with 2 Axes>"
            ],
            "image/png": "[encoded data removed]"
          },
          "metadata": {
            "needs_background": "light"
          }
        }
      ],
      "source": [
        "img_shape = (128,128,3)\n",
        "img, label = test_batch(10, img_shape[0], img_shape[1])\n",
        "print(img.shape, label.shape)\n",
        "show_batch(img, label)"
      ]
    },
    {
      "cell_type": "markdown",
      "metadata": {
        "id": "-zdh7nWRQtuE"
      },
      "source": [
        "Для исследования будем использовать многослойную нейросеть - keras. Зададим некоторые параметры нейросети:"
      ]
    },
    {
      "cell_type": "code",
      "execution_count": 11,
      "metadata": {
        "colab": {
          "base_uri": "https://localhost:8080/"
        },
        "id": "LuT2wrG_FMO-",
        "outputId": "65b3e9d7-9139-4a3f-c843-899a13ce68ef"
      },
      "outputs": [
        {
          "output_type": "stream",
          "name": "stdout",
          "text": [
            "Model: \"model\"\n",
            "_________________________________________________________________\n",
            " Layer (type)                Output Shape              Param #   \n",
            "=================================================================\n",
            " input_1 (InputLayer)        [(None, 128, 128, 3)]     0         \n",
            "                                                                 \n",
            " conv2d (Conv2D)             (None, 128, 128, 16)      1216      \n",
            "                                                                 \n",
            " batch_normalization (BatchN  (None, 128, 128, 16)     64        \n",
            " ormalization)                                                   \n",
            "                                                                 \n",
            " conv2d_1 (Conv2D)           (None, 128, 128, 32)      12832     \n",
            "                                                                 \n",
            " batch_normalization_1 (Batc  (None, 128, 128, 32)     128       \n",
            " hNormalization)                                                 \n",
            "                                                                 \n",
            " conv2d_2 (Conv2D)           (None, 128, 128, 1)       801       \n",
            "                                                                 \n",
            "=================================================================\n",
            "Total params: 15,041\n",
            "Trainable params: 14,945\n",
            "Non-trainable params: 96\n",
            "_________________________________________________________________\n"
          ]
        }
      ],
      "source": [
        "l2 = None\n",
        "inputs = keras.Input(shape=img_shape)\n",
        "conv1 = keras.layers.Conv2D(16,5,padding='same',activation='relu',kernel_initializer='glorot_normal',kernel_regularizer=l2)(inputs)\n",
        "conv1 = keras.layers.BatchNormalization(momentum=0.99)(conv1)\n",
        "conv2 = keras.layers.Conv2D(32,5,padding='same',activation='relu',kernel_initializer='glorot_normal',kernel_regularizer=l2)(conv1)\n",
        "conv2 = keras.layers.BatchNormalization(momentum=0.99)(conv2)\n",
        "outputs = keras.layers.Conv2D(1,5,padding='same',activation='relu',kernel_initializer='glorot_normal',kernel_regularizer=l2)(conv2)\n",
        "model = keras.Model(inputs=inputs, outputs=outputs)\n",
        "model.summary()"
      ]
    },
    {
      "cell_type": "markdown",
      "metadata": {
        "id": "LBRqYbiQRAKY"
      },
      "source": [
        "Для вычисления ошибки создадим функция loss_funtion"
      ]
    },
    {
      "cell_type": "code",
      "execution_count": 12,
      "metadata": {
        "id": "_BbTjn4AGT5-"
      },
      "outputs": [],
      "source": [
        "def loss_function(y_true, y_pred):\n",
        "  squared_diff = tf.square(y_true - y_pred)\n",
        "  return tf.reduce_mean(squared_diff)\n"
      ]
    },
    {
      "cell_type": "markdown",
      "metadata": {
        "id": "Bsr3PQHXRG9X"
      },
      "source": [
        "Для обучения нейронной сети создадим выборку из 1000 изображений:"
      ]
    },
    {
      "cell_type": "code",
      "execution_count": 13,
      "metadata": {
        "id": "ti1MlFfMlZEj"
      },
      "outputs": [],
      "source": [
        "x_list = []\n",
        "y_list = []\n",
        "for i in range(1000):\n",
        "  x,y  = create_data_sample(10, img_shape[0], img_shape[1])\n",
        "  x_list.append(x)\n",
        "  y_list.append(y)\n",
        "x_list = np.array(x_list)\n",
        "y_list = np.array(y_list)"
      ]
    },
    {
      "cell_type": "code",
      "execution_count": 14,
      "metadata": {
        "colab": {
          "base_uri": "https://localhost:8080/",
          "height": 203
        },
        "id": "odlwwBD_oCvQ",
        "outputId": "07fd4e5c-aa3c-42b7-a0e5-36970f3333fc"
      },
      "outputs": [
        {
          "output_type": "display_data",
          "data": {
            "text/plain": [
              "<Figure size 432x288 with 2 Axes>"
            ],
            "image/png": "[encoded data removed]"
          },
          "metadata": {
            "needs_background": "light"
          }
        }
      ],
      "source": [
        "i = 3\n",
        "show_sample(x_list[i], y_list[i])"
      ]
    },
    {
      "cell_type": "markdown",
      "metadata": {
        "id": "5-dJzaqpRMQ3"
      },
      "source": [
        "Проверим размерность выборки"
      ]
    },
    {
      "cell_type": "code",
      "execution_count": 15,
      "metadata": {
        "colab": {
          "base_uri": "https://localhost:8080/"
        },
        "id": "9XgarLrmmKRi",
        "outputId": "869e08ed-c2a7-4bf9-a3d9-35a16601a4ae"
      },
      "outputs": [
        {
          "output_type": "execute_result",
          "data": {
            "text/plain": [
              "(1000, 128, 128, 3)"
            ]
          },
          "metadata": {},
          "execution_count": 15
        }
      ],
      "source": [
        "x_list.shape"
      ]
    },
    {
      "cell_type": "markdown",
      "metadata": {
        "id": "RXkReDKfROs_"
      },
      "source": [
        "Приступим к обучению модели:"
      ]
    },
    {
      "cell_type": "code",
      "execution_count": 16,
      "metadata": {
        "id": "odXTQBu6GPKO"
      },
      "outputs": [],
      "source": [
        "opt = keras.optimizers.Adam(learning_rate=1e-4)\n",
        "model.compile(optimizer=opt,loss=loss_function)"
      ]
    },
    {
      "cell_type": "code",
      "execution_count": 17,
      "metadata": {
        "colab": {
          "base_uri": "https://localhost:8080/"
        },
        "id": "ruf3_HvEGJyA",
        "outputId": "e9766880-5bb1-44c5-8f8f-a62e6f91be15"
      },
      "outputs": [
        {
          "output_type": "stream",
          "name": "stdout",
          "text": [
            "Epoch 1/100\n",
            "10/10 [==============================] - 17s 92ms/step - loss: 2.0240\n",
            "Epoch 2/100\n",
            "10/10 [==============================] - 1s 92ms/step - loss: 0.6386\n",
            "Epoch 3/100\n",
            "10/10 [==============================] - 1s 92ms/step - loss: 0.2987\n",
            "Epoch 4/100\n",
            "10/10 [==============================] - 1s 93ms/step - loss: 0.2197\n",
            "Epoch 5/100\n",
            "10/10 [==============================] - 1s 92ms/step - loss: 0.1581\n",
            "Epoch 6/100\n",
            "10/10 [==============================] - 1s 93ms/step - loss: 0.1250\n",
            "Epoch 7/100\n",
            "10/10 [==============================] - 1s 92ms/step - loss: 0.1079\n",
            "Epoch 8/100\n",
            "10/10 [==============================] - 1s 96ms/step - loss: 0.0943\n",
            "Epoch 9/100\n",
            "10/10 [==============================] - 1s 98ms/step - loss: 0.0836\n",
            "Epoch 10/100\n",
            "10/10 [==============================] - 1s 97ms/step - loss: 0.0748\n",
            "Epoch 11/100\n",
            "10/10 [==============================] - 1s 93ms/step - loss: 0.0674\n",
            "Epoch 12/100\n",
            "10/10 [==============================] - 1s 94ms/step - loss: 0.0609\n",
            "Epoch 13/100\n",
            "10/10 [==============================] - 1s 94ms/step - loss: 0.0553\n",
            "Epoch 14/100\n",
            "10/10 [==============================] - 1s 92ms/step - loss: 0.0504\n",
            "Epoch 15/100\n",
            "10/10 [==============================] - 1s 92ms/step - loss: 0.0461\n",
            "Epoch 16/100\n",
            "10/10 [==============================] - 1s 93ms/step - loss: 0.0424\n",
            "Epoch 17/100\n",
            "10/10 [==============================] - 1s 92ms/step - loss: 0.0390\n",
            "Epoch 18/100\n",
            "10/10 [==============================] - 1s 92ms/step - loss: 0.0361\n",
            "Epoch 19/100\n",
            "10/10 [==============================] - 1s 94ms/step - loss: 0.0335\n",
            "Epoch 20/100\n",
            "10/10 [==============================] - 1s 92ms/step - loss: 0.0311\n",
            "Epoch 21/100\n",
            "10/10 [==============================] - 1s 96ms/step - loss: 0.0291\n",
            "Epoch 22/100\n",
            "10/10 [==============================] - 1s 97ms/step - loss: 0.0273\n",
            "Epoch 23/100\n",
            "10/10 [==============================] - 1s 94ms/step - loss: 0.0256\n",
            "Epoch 24/100\n",
            "10/10 [==============================] - 1s 93ms/step - loss: 0.0242\n",
            "Epoch 25/100\n",
            "10/10 [==============================] - 1s 92ms/step - loss: 0.0229\n",
            "Epoch 26/100\n",
            "10/10 [==============================] - 1s 93ms/step - loss: 0.0217\n",
            "Epoch 27/100\n",
            "10/10 [==============================] - 1s 92ms/step - loss: 0.0206\n",
            "Epoch 28/100\n",
            "10/10 [==============================] - 1s 94ms/step - loss: 0.0197\n",
            "Epoch 29/100\n",
            "10/10 [==============================] - 1s 94ms/step - loss: 0.0188\n",
            "Epoch 30/100\n",
            "10/10 [==============================] - 1s 92ms/step - loss: 0.0180\n",
            "Epoch 31/100\n",
            "10/10 [==============================] - 1s 93ms/step - loss: 0.0173\n",
            "Epoch 32/100\n",
            "10/10 [==============================] - 1s 93ms/step - loss: 0.0166\n",
            "Epoch 33/100\n",
            "10/10 [==============================] - 1s 92ms/step - loss: 0.0160\n",
            "Epoch 34/100\n",
            "10/10 [==============================] - 1s 94ms/step - loss: 0.0154\n",
            "Epoch 35/100\n",
            "10/10 [==============================] - 1s 99ms/step - loss: 0.0149\n",
            "Epoch 36/100\n",
            "10/10 [==============================] - 1s 96ms/step - loss: 0.0144\n",
            "Epoch 37/100\n",
            "10/10 [==============================] - 1s 93ms/step - loss: 0.0140\n",
            "Epoch 38/100\n",
            "10/10 [==============================] - 1s 93ms/step - loss: 0.0136\n",
            "Epoch 39/100\n",
            "10/10 [==============================] - 1s 93ms/step - loss: 0.0132\n",
            "Epoch 40/100\n",
            "10/10 [==============================] - 1s 93ms/step - loss: 0.0128\n",
            "Epoch 41/100\n",
            "10/10 [==============================] - 1s 93ms/step - loss: 0.0125\n",
            "Epoch 42/100\n",
            "10/10 [==============================] - 1s 94ms/step - loss: 0.0122\n",
            "Epoch 43/100\n",
            "10/10 [==============================] - 1s 94ms/step - loss: 0.0119\n",
            "Epoch 44/100\n",
            "10/10 [==============================] - 1s 93ms/step - loss: 0.0116\n",
            "Epoch 45/100\n",
            "10/10 [==============================] - 1s 93ms/step - loss: 0.0114\n",
            "Epoch 46/100\n",
            "10/10 [==============================] - 1s 94ms/step - loss: 0.0111\n",
            "Epoch 47/100\n",
            "10/10 [==============================] - 1s 96ms/step - loss: 0.0109\n",
            "Epoch 48/100\n",
            "10/10 [==============================] - 1s 97ms/step - loss: 0.0107\n",
            "Epoch 49/100\n",
            "10/10 [==============================] - 1s 95ms/step - loss: 0.0104\n",
            "Epoch 50/100\n",
            "10/10 [==============================] - 1s 93ms/step - loss: 0.0102\n",
            "Epoch 51/100\n",
            "10/10 [==============================] - 1s 93ms/step - loss: 0.0101\n",
            "Epoch 52/100\n",
            "10/10 [==============================] - 1s 94ms/step - loss: 0.0099\n",
            "Epoch 53/100\n",
            "10/10 [==============================] - 1s 100ms/step - loss: 0.0097\n",
            "Epoch 54/100\n",
            "10/10 [==============================] - 1s 93ms/step - loss: 0.0095\n",
            "Epoch 55/100\n",
            "10/10 [==============================] - 1s 94ms/step - loss: 0.0094\n",
            "Epoch 56/100\n",
            "10/10 [==============================] - 1s 95ms/step - loss: 0.0092\n",
            "Epoch 57/100\n",
            "10/10 [==============================] - 1s 94ms/step - loss: 0.0091\n",
            "Epoch 58/100\n",
            "10/10 [==============================] - 1s 94ms/step - loss: 0.0090\n",
            "Epoch 59/100\n",
            "10/10 [==============================] - 1s 93ms/step - loss: 0.0088\n",
            "Epoch 60/100\n",
            "10/10 [==============================] - 1s 96ms/step - loss: 0.0087\n",
            "Epoch 61/100\n",
            "10/10 [==============================] - 1s 95ms/step - loss: 0.0086\n",
            "Epoch 62/100\n",
            "10/10 [==============================] - 1s 93ms/step - loss: 0.0085\n",
            "Epoch 63/100\n",
            "10/10 [==============================] - 1s 93ms/step - loss: 0.0083\n",
            "Epoch 64/100\n",
            "10/10 [==============================] - 1s 94ms/step - loss: 0.0082\n",
            "Epoch 65/100\n",
            "10/10 [==============================] - 1s 94ms/step - loss: 0.0081\n",
            "Epoch 66/100\n",
            "10/10 [==============================] - 1s 93ms/step - loss: 0.0080\n",
            "Epoch 67/100\n",
            "10/10 [==============================] - 1s 94ms/step - loss: 0.0079\n",
            "Epoch 68/100\n",
            "10/10 [==============================] - 1s 94ms/step - loss: 0.0078\n",
            "Epoch 69/100\n",
            "10/10 [==============================] - 1s 93ms/step - loss: 0.0077\n",
            "Epoch 70/100\n",
            "10/10 [==============================] - 1s 93ms/step - loss: 0.0076\n",
            "Epoch 71/100\n",
            "10/10 [==============================] - 1s 94ms/step - loss: 0.0075\n",
            "Epoch 72/100\n",
            "10/10 [==============================] - 1s 93ms/step - loss: 0.0074\n",
            "Epoch 73/100\n",
            "10/10 [==============================] - 1s 98ms/step - loss: 0.0073\n",
            "Epoch 74/100\n",
            "10/10 [==============================] - 1s 97ms/step - loss: 0.0073\n",
            "Epoch 75/100\n",
            "10/10 [==============================] - 1s 95ms/step - loss: 0.0072\n",
            "Epoch 76/100\n",
            "10/10 [==============================] - 1s 93ms/step - loss: 0.0071\n",
            "Epoch 77/100\n",
            "10/10 [==============================] - 1s 93ms/step - loss: 0.0070\n",
            "Epoch 78/100\n",
            "10/10 [==============================] - 1s 95ms/step - loss: 0.0069\n",
            "Epoch 79/100\n",
            "10/10 [==============================] - 1s 94ms/step - loss: 0.0069\n",
            "Epoch 80/100\n",
            "10/10 [==============================] - 1s 98ms/step - loss: 0.0068\n",
            "Epoch 81/100\n",
            "10/10 [==============================] - 1s 99ms/step - loss: 0.0067\n",
            "Epoch 82/100\n",
            "10/10 [==============================] - 1s 96ms/step - loss: 0.0066\n",
            "Epoch 83/100\n",
            "10/10 [==============================] - 1s 93ms/step - loss: 0.0066\n",
            "Epoch 84/100\n",
            "10/10 [==============================] - 1s 95ms/step - loss: 0.0065\n",
            "Epoch 85/100\n",
            "10/10 [==============================] - 1s 95ms/step - loss: 0.0064\n",
            "Epoch 86/100\n",
            "10/10 [==============================] - 1s 98ms/step - loss: 0.0064\n",
            "Epoch 87/100\n",
            "10/10 [==============================] - 1s 98ms/step - loss: 0.0063\n",
            "Epoch 88/100\n",
            "10/10 [==============================] - 1s 95ms/step - loss: 0.0062\n",
            "Epoch 89/100\n",
            "10/10 [==============================] - 1s 94ms/step - loss: 0.0062\n",
            "Epoch 90/100\n",
            "10/10 [==============================] - 1s 93ms/step - loss: 0.0061\n",
            "Epoch 91/100\n",
            "10/10 [==============================] - 1s 93ms/step - loss: 0.0060\n",
            "Epoch 92/100\n",
            "10/10 [==============================] - 1s 94ms/step - loss: 0.0060\n",
            "Epoch 93/100\n",
            "10/10 [==============================] - 1s 94ms/step - loss: 0.0059\n",
            "Epoch 94/100\n",
            "10/10 [==============================] - 1s 93ms/step - loss: 0.0058\n",
            "Epoch 95/100\n",
            "10/10 [==============================] - 1s 93ms/step - loss: 0.0058\n",
            "Epoch 96/100\n",
            "10/10 [==============================] - 1s 93ms/step - loss: 0.0057\n",
            "Epoch 97/100\n",
            "10/10 [==============================] - 1s 93ms/step - loss: 0.0057\n",
            "Epoch 98/100\n",
            "10/10 [==============================] - 1s 95ms/step - loss: 0.0056\n",
            "Epoch 99/100\n",
            "10/10 [==============================] - 1s 96ms/step - loss: 0.0055\n",
            "Epoch 100/100\n",
            "10/10 [==============================] - 1s 98ms/step - loss: 0.0055\n"
          ]
        },
        {
          "output_type": "execute_result",
          "data": {
            "text/plain": [
              "<keras.callbacks.History at 0x7f8932bd1670>"
            ]
          },
          "metadata": {},
          "execution_count": 17
        }
      ],
      "source": [
        "model.fit(x_list,y_list,batch_size=100,epochs=100)"
      ]
    },
    {
      "cell_type": "markdown",
      "metadata": {
        "id": "BrvspDtfRYjP"
      },
      "source": [
        "Для примера рассмотрим следующий элемент выборки:"
      ]
    },
    {
      "cell_type": "code",
      "execution_count": 18,
      "metadata": {
        "colab": {
          "base_uri": "https://localhost:8080/",
          "height": 203
        },
        "id": "X5a70eRoJPH7",
        "outputId": "e695ec9d-6654-4d74-d3f8-edfc239474bf"
      },
      "outputs": [
        {
          "output_type": "display_data",
          "data": {
            "text/plain": [
              "<Figure size 432x288 with 2 Axes>"
            ],
            "image/png": "[encoded data removed]"
          },
          "metadata": {
            "needs_background": "light"
          }
        }
      ],
      "source": [
        "img, label = test_batch(10, img_shape[0], img_shape[1])\n",
        "show_batch(img,label)"
      ]
    },
    {
      "cell_type": "markdown",
      "metadata": {
        "id": "o13MlmejRhG3"
      },
      "source": [
        "Для этого элемента сделаем прогноз:"
      ]
    },
    {
      "cell_type": "code",
      "execution_count": 19,
      "metadata": {
        "colab": {
          "base_uri": "https://localhost:8080/",
          "height": 255
        },
        "id": "6ravQBFDJbzM",
        "outputId": "f2e96683-3e3c-4a28-a864-f71197129c20"
      },
      "outputs": [
        {
          "output_type": "stream",
          "name": "stdout",
          "text": [
            "1/1 [==============================] - 0s 144ms/step\n"
          ]
        },
        {
          "output_type": "stream",
          "name": "stderr",
          "text": [
            "WARNING:matplotlib.image:Clipping input data to the valid range for imshow with RGB data ([0..1] for floats or [0..255] for integers).\n"
          ]
        },
        {
          "output_type": "stream",
          "name": "stdout",
          "text": [
            "2.2204282\n"
          ]
        },
        {
          "output_type": "display_data",
          "data": {
            "text/plain": [
              "<Figure size 432x288 with 2 Axes>"
            ],
            "image/png": "[encoded data removed]"
          },
          "metadata": {
            "needs_background": "light"
          }
        }
      ],
      "source": [
        "y_pred = model.predict(img)\n",
        "print(y_pred.max())\n",
        "show_batch(img, y_pred)"
      ]
    },
    {
      "cell_type": "markdown",
      "metadata": {
        "id": "hKdkxDkIRkBv"
      },
      "source": [
        "Как видно из прогноза, очертания окружностей практически полностью совпадают с реальным расположением окружностей."
      ]
    }
  ],
  "metadata": {
    "accelerator": "GPU",
    "colab": {
      "provenance": []
    },
    "kernelspec": {
      "display_name": "Python 3 (ipykernel)",
      "language": "python",
      "name": "python3"
    },
    "language_info": {
      "codemirror_mode": {
        "name": "ipython",
        "version": 3
      },
      "file_extension": ".py",
      "mimetype": "text/x-python",
      "name": "python",
      "nbconvert_exporter": "python",
      "pygments_lexer": "ipython3",
      "version": "3.10.4"
    }
  },
  "nbformat": 4,
  "nbformat_minor": 0
}